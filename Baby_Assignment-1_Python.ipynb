{
 "cells": [
  {
   "cell_type": "code",
   "execution_count": 1,
   "id": "d7591a54-b4bb-47f0-9e52-70b14d70c406",
   "metadata": {},
   "outputs": [
    {
     "name": "stdout",
     "output_type": "stream",
     "text": [
      "welcome to assignment-1\n"
     ]
    }
   ],
   "source": [
    "# 1.Print \"welcome to assignment-1\"\n",
    "print(\"welcome to assignment-1\")"
   ]
  },
  {
   "cell_type": "code",
   "execution_count": 3,
   "id": "672014ce-a200-4e8f-a50f-87c00f78e848",
   "metadata": {},
   "outputs": [
    {
     "name": "stdout",
     "output_type": "stream",
     "text": [
      "40\n"
     ]
    }
   ],
   "source": [
    "# 2.Add two numbers\n",
    "Num1=10\n",
    "Num2=30\n",
    "Add=(Num1+Num2)\n",
    "print(Add)"
   ]
  },
  {
   "cell_type": "code",
   "execution_count": 17,
   "id": "e03d7c9e-9d46-46d3-b177-131dce0513bd",
   "metadata": {},
   "outputs": [
    {
     "name": "stdin",
     "output_type": "stream",
     "text": [
      "Enter the BMI Index: 34\n"
     ]
    },
    {
     "name": "stdout",
     "output_type": "stream",
     "text": [
      "OverWeight\n"
     ]
    }
   ],
   "source": [
    "# 3.BMI Calculation\n",
    "\n",
    "BMI_Index=int(input(\"Enter the BMI Index:\"))\n",
    "if(BMI_Index<18):\n",
    "    print(\"UnderWeight\")\n",
    "elif(BMI_Index<24):\n",
    "    print(\"Normal\")\n",
    "elif(BMI_Index<39):\n",
    "    print(\"OverWeight\")\n",
    "else:\n",
    "    print(\"Obese\")\n"
   ]
  },
  {
   "cell_type": "code",
   "execution_count": null,
   "id": "2ccc2bf7-a904-457d-a196-17ce83094b0a",
   "metadata": {},
   "outputs": [],
   "source": []
  }
 ],
 "metadata": {
  "kernelspec": {
   "display_name": "Python 3 (ipykernel)",
   "language": "python",
   "name": "python3"
  },
  "language_info": {
   "codemirror_mode": {
    "name": "ipython",
    "version": 3
   },
   "file_extension": ".py",
   "mimetype": "text/x-python",
   "name": "python",
   "nbconvert_exporter": "python",
   "pygments_lexer": "ipython3",
   "version": "3.12.4"
  }
 },
 "nbformat": 4,
 "nbformat_minor": 5
}
