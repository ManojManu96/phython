{
 "cells": [
  {
   "cell_type": "code",
   "execution_count": 3,
   "id": "16b9b6f8-df03-4dce-a493-b3687f46d4dd",
   "metadata": {},
   "outputs": [
    {
     "name": "stdout",
     "output_type": "stream",
     "text": [
      "0\n",
      "1\n",
      "2\n",
      "3\n",
      "4\n",
      "5\n",
      "6\n",
      "7\n",
      "8\n",
      "9\n",
      "10\n",
      "11\n",
      "12\n",
      "13\n",
      "14\n",
      "15\n",
      "16\n",
      "17\n",
      "18\n",
      "19\n"
     ]
    }
   ],
   "source": [
    "# 1.Print0 to 20 by using range.\n",
    "for num in range(0,20):\n",
    "    print(num)"
   ]
  },
  {
   "cell_type": "code",
   "execution_count": 17,
   "id": "b4d6e8c5-9850-4a64-b747-6e4abe2f6859",
   "metadata": {},
   "outputs": [
    {
     "name": "stdout",
     "output_type": "stream",
     "text": [
      "10 11 12 13 14 15 16 17 18 19 "
     ]
    }
   ],
   "source": [
    "# 2.Print range 10 to 20.\n",
    "lists=[10, 11, 12, 13, 14, 15, 16, 17, 18, 19]\n",
    "for temp in lists:\n",
    "    print(temp,end=' ')"
   ]
  },
  {
   "cell_type": "code",
   "execution_count": 19,
   "id": "bbfba768-9e95-4d63-a79a-b7a988809f5e",
   "metadata": {},
   "outputs": [
    {
     "name": "stdout",
     "output_type": "stream",
     "text": [
      "No. of items in the list2: 7\n"
     ]
    }
   ],
   "source": [
    "# 3.Print no. of items in the lists by using 'len'.\n",
    "lists=[10,20,14,55,43,87,76]\n",
    "print(\"No. of items in the list2:\",len(lists))"
   ]
  },
  {
   "cell_type": "code",
   "execution_count": 7,
   "id": "7bbe34c9-2437-4945-b5bb-76d36fc9c22c",
   "metadata": {},
   "outputs": [
    {
     "name": "stdin",
     "output_type": "stream",
     "text": [
      "Enter the input: Artificial Intelligence\n"
     ]
    },
    {
     "name": "stdout",
     "output_type": "stream",
     "text": [
      "\n",
      "\n",
      "A\n",
      "r\n",
      "t\n",
      "i\n",
      "f\n",
      "i\n",
      "c\n",
      "i\n",
      "a\n",
      "l\n",
      " \n",
      "I\n",
      "n\n",
      "t\n",
      "e\n",
      "l\n",
      "l\n",
      "i\n",
      "g\n",
      "e\n",
      "n\n",
      "c\n",
      "e\n"
     ]
    }
   ],
   "source": [
    "# 4.Print follwing words \"Artificial Intelligence\" in vertical form.\n",
    "Name=input(\"Enter the input:\")\n",
    "print(\"\\n\")\n",
    "for x in Name:\n",
    "    print(x)\n"
   ]
  },
  {
   "cell_type": "code",
   "execution_count": 9,
   "id": "083e0d7c-a920-4f67-b892-bf31b6e00c5f",
   "metadata": {},
   "outputs": [
    {
     "name": "stdout",
     "output_type": "stream",
     "text": [
      "Your Name\n",
      "Your Age\n",
      "Your Proffession\n"
     ]
    }
   ],
   "source": [
    "# 5.Print Your Name,Your age,Your proffession by using lists\n",
    "lists=[\"-Your Name-\",\"-Your Age-\",\"-Your Proffession-\"]\n",
    "for i in lists:\n",
    "    print(i)\n"
   ]
  },
  {
   "cell_type": "code",
   "execution_count": 31,
   "id": "09447a3b-3651-4206-9298-88cd1143643b",
   "metadata": {},
   "outputs": [
    {
     "name": "stdout",
     "output_type": "stream",
     "text": [
      "(1, 'Welcome', 2, 'Hope')\n"
     ]
    }
   ],
   "source": [
    "# 6.Print this mixered datatypes using Tuples\n",
    "Tuple=(1,'Welcome',2,'Hope')\n",
    "print(Tuple)"
   ]
  },
  {
   "cell_type": "code",
   "execution_count": 1,
   "id": "9a1f58d7-a8cc-461a-b23d-bf86d3f972a9",
   "metadata": {},
   "outputs": [
    {
     "name": "stdout",
     "output_type": "stream",
     "text": [
      "((0, 1, 2, 3), ('Python', 'Hope'))\n"
     ]
    }
   ],
   "source": [
    "# 7.Python tuples(0,1,2,3)\n",
    "Tuple1=(0,1,2,3)\n",
    "Tuple2=('Python','Hope')\n",
    "Tuple3=(Tuple1,Tuple2)\n",
    "print(Tuple3)"
   ]
  },
  {
   "cell_type": "code",
   "execution_count": 2,
   "id": "7aa416c7-7c25-4a57-b10e-7b287446f8a8",
   "metadata": {},
   "outputs": [
    {
     "name": "stdout",
     "output_type": "stream",
     "text": [
      "19 is odd\n",
      "25 is odd\n",
      "1 is odd\n"
     ]
    }
   ],
   "source": [
    "# 8.Print odd numbers in the list\n",
    "lists=[20,10,16,19,25,1,276,188]\n",
    "for num in lists:\n",
    "    if(num % 2 !=0):\n",
    "        print(num,\"is odd\")\n"
   ]
  },
  {
   "cell_type": "raw",
   "id": "3b0cd4f0-031c-429b-81ce-901f4c695ad9",
   "metadata": {},
   "source": []
  },
  {
   "cell_type": "code",
   "execution_count": 48,
   "id": "826335ab-b1ba-49db-8d41-939b959a98be",
   "metadata": {},
   "outputs": [
    {
     "name": "stdout",
     "output_type": "stream",
     "text": [
      "20 is even\n",
      "10 is even\n",
      "16 is even\n",
      "276 is even\n",
      "188 is even\n"
     ]
    }
   ],
   "source": [
    "# 9.Print even number in the list\n",
    "lists=[20,10,16,19,25,1,276,188]\n",
    "for num in lists:\n",
    "    if(num % 2 ==0):\n",
    "        print(num,\"is even\")\n"
   ]
  },
  {
   "cell_type": "code",
   "execution_count": null,
   "id": "76551d2e-0604-416d-b77e-503687970267",
   "metadata": {},
   "outputs": [],
   "source": []
  }
 ],
 "metadata": {
  "kernelspec": {
   "display_name": "Python 3 (ipykernel)",
   "language": "python",
   "name": "python3"
  },
  "language_info": {
   "codemirror_mode": {
    "name": "ipython",
    "version": 3
   },
   "file_extension": ".py",
   "mimetype": "text/x-python",
   "name": "python",
   "nbconvert_exporter": "python",
   "pygments_lexer": "ipython3",
   "version": "3.12.4"
  }
 },
 "nbformat": 4,
 "nbformat_minor": 5
}
