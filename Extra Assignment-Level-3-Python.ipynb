{
 "cells": [
  {
   "cell_type": "code",
   "execution_count": 15,
   "id": "fcd7dd52-75fa-43b1-b463-f964f5fef8b3",
   "metadata": {},
   "outputs": [
    {
     "name": "stdout",
     "output_type": "stream",
     "text": [
      "value: 10\n",
      "Correct\n"
     ]
    }
   ],
   "source": [
    "# 1.Print 'Correct' if i=10\n",
    "lists=[1,2,3,4,5,10]\n",
    "for i in lists:\n",
    "    if(i==10):\n",
    "        print(\"value:\",i)\n",
    "        print(\"Correct\")"
   ]
  },
  {
   "cell_type": "code",
   "execution_count": 33,
   "id": "bcdf1e60-529c-4a5a-ac6f-34d12bf553ac",
   "metadata": {},
   "outputs": [
    {
     "name": "stdin",
     "output_type": "stream",
     "text": [
      "Enter the password: Hope@123\n"
     ]
    },
    {
     "name": "stdout",
     "output_type": "stream",
     "text": [
      "Your password is correct\n"
     ]
    }
   ],
   "source": [
    "# 2.Chwck the password by using if and else\n",
    "password=input(\"Enter the password:\")\n",
    "if(password ==\"Hope@123\"):\n",
    "    print(\"Your password is correct\")\n",
    "else:\n",
    "    print(\"Your Password is wrong\")\n",
    "    \n",
    "          "
   ]
  },
  {
   "cell_type": "code",
   "execution_count": 13,
   "id": "cf1f23a3-8449-42c3-82b0-6179658bc301",
   "metadata": {},
   "outputs": [
    {
     "name": "stdin",
     "output_type": "stream",
     "text": [
      "age: 24\n"
     ]
    },
    {
     "name": "stdout",
     "output_type": "stream",
     "text": [
      "Adult\n"
     ]
    }
   ],
   "source": [
    "# 3.Category the people by their age\n",
    "Age=int(input(\"age:\"))\n",
    "if(Age<=15):\n",
    "    print(\"Child\")\n",
    "elif(Age<=30):\n",
    "    print(\"Adult\")\n",
    "elif(Age<=45):\n",
    "    print(\"Citizen\")\n",
    "else:\n",
    "    Print(\"Senior Citizen\")\n",
    "              \n",
    "              "
   ]
  },
  {
   "cell_type": "code",
   "execution_count": 19,
   "id": "7d772eb0-b2c9-4477-b365-e8c079361597",
   "metadata": {},
   "outputs": [
    {
     "name": "stdin",
     "output_type": "stream",
     "text": [
      "Enter any number: 1\n"
     ]
    },
    {
     "name": "stdout",
     "output_type": "stream",
     "text": [
      "Num is Positive\n"
     ]
    }
   ],
   "source": [
    "# 4.Find whether given number is positive or negative\n",
    "Num=int(input(\"Enter any number:\"))\n",
    "if(Num>0):\n",
    "    print(\"Num is Positive\")\n",
    "else:\n",
    "    print(\"Num is Negative\")\n",
    "    "
   ]
  },
  {
   "cell_type": "code",
   "execution_count": 23,
   "id": "0dad6107-3015-4cbe-89bb-0c9bb75b79d5",
   "metadata": {},
   "outputs": [
    {
     "name": "stdin",
     "output_type": "stream",
     "text": [
      "Enter a Number to check: 22\n"
     ]
    },
    {
     "name": "stdout",
     "output_type": "stream",
     "text": [
      "No,It is not divisible by 5\n"
     ]
    }
   ],
   "source": [
    "# 5.Check whether given number is divisible by 5\n",
    "Number=int(input(\"Enter a Number to check:\"))\n",
    "if(Number%5==0):\n",
    "    print(\"Yes,It is divisible by 5\")\n",
    "else:\n",
    "    print(\"No,It is not divisible by 5\")"
   ]
  },
  {
   "cell_type": "code",
   "execution_count": null,
   "id": "a9a7e9da-93f1-4be3-9994-252d29a87f9e",
   "metadata": {},
   "outputs": [],
   "source": []
  }
 ],
 "metadata": {
  "kernelspec": {
   "display_name": "Python 3 (ipykernel)",
   "language": "python",
   "name": "python3"
  },
  "language_info": {
   "codemirror_mode": {
    "name": "ipython",
    "version": 3
   },
   "file_extension": ".py",
   "mimetype": "text/x-python",
   "name": "python",
   "nbconvert_exporter": "python",
   "pygments_lexer": "ipython3",
   "version": "3.12.4"
  }
 },
 "nbformat": 4,
 "nbformat_minor": 5
}
