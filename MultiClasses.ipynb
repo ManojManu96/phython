{
 "cells": [
  {
   "cell_type": "code",
   "execution_count": 1,
   "id": "a16a5db5-0bc8-4e01-80ee-6a786db5b9f1",
   "metadata": {},
   "outputs": [],
   "source": [
    "# 1.create class and function\n",
    "class subfields():\n",
    "    def Subfields():\n",
    "            print(\"Subfields are in AI:\")\n",
    "            mylists=[\"Machine Learning\",\"Natural Networks\",\"Vision\",\"Robotics\",\"Speech Processing\",\"Natural Language Processing\"]\n",
    "            for temp in mylists:\n",
    "                print(temp)"
   ]
  },
  {
   "cell_type": "code",
   "execution_count": 2,
   "id": "ea54d325-d757-4daa-9687-f618e9d78673",
   "metadata": {},
   "outputs": [
    {
     "name": "stdout",
     "output_type": "stream",
     "text": [
      "Subfields are in AI:\n",
      "Machine Learning\n",
      "Natural Networks\n",
      "Vision\n",
      "Robotics\n",
      "Speech Processing\n",
      "Natural Language Processing\n"
     ]
    }
   ],
   "source": [
    "subfields.Subfields()"
   ]
  },
  {
   "cell_type": "code",
   "execution_count": 3,
   "id": "35b7e4ef-ab32-4a88-bb52-a962610dad07",
   "metadata": {},
   "outputs": [],
   "source": [
    "class oddEven():\n",
    "    def OddEven():\n",
    "            num=int(input(\"Enter a number:\"))\n",
    "            if((num%2)==0):\n",
    "                print(\"is Even Number\")\n",
    "                GivenNum=\"Even Number\"\n",
    "            else:\n",
    "                print(num,\"is Odd Number\")\n",
    "                GivenNum=\"Odd Number\"\n",
    "    "
   ]
  },
  {
   "cell_type": "code",
   "execution_count": 4,
   "id": "6a657f67-f235-401d-a960-1764cbb40072",
   "metadata": {},
   "outputs": [
    {
     "name": "stdin",
     "output_type": "stream",
     "text": [
      "Enter a number: 7\n"
     ]
    },
    {
     "name": "stdout",
     "output_type": "stream",
     "text": [
      "7 is Odd Number\n"
     ]
    }
   ],
   "source": [
    "oddEven.OddEven()"
   ]
  },
  {
   "cell_type": "code",
   "execution_count": 5,
   "id": "552bf5bf-4eba-4c9f-885b-178bfe46e585",
   "metadata": {},
   "outputs": [],
   "source": [
    "class eligible():\n",
    "    def Eligible():\n",
    "            Gender=input(\"Your Gender:\")\n",
    "            Age=int(input(\"Your Age\"))\n",
    "            if(Age>=18 and Gender==\"Female\"):\n",
    "                print(\"Eligible\")\n",
    "            elif(Age>=21 and Gender==\"Male\"):\n",
    "                print(\"Eligible\")\n",
    "                 \n",
    "            else:\n",
    "                print(\"Not Eligible\")\n",
    "                 "
   ]
  },
  {
   "cell_type": "code",
   "execution_count": 6,
   "id": "e293e7e4-3c61-47b3-ae35-f83a4797df50",
   "metadata": {},
   "outputs": [
    {
     "name": "stdin",
     "output_type": "stream",
     "text": [
      "Your Gender: Male\n",
      "Your Age 26\n"
     ]
    },
    {
     "name": "stdout",
     "output_type": "stream",
     "text": [
      "Eligible\n"
     ]
    }
   ],
   "source": [
    "eligible.Eligible()"
   ]
  },
  {
   "cell_type": "code",
   "execution_count": 7,
   "id": "59b0b042-cee7-4ec4-8b29-7148ea7fcff7",
   "metadata": {},
   "outputs": [],
   "source": [
    "class Percentage():\n",
    "    def percentage():\n",
    "            Sub1=float(input(\"Subject1=\"))\n",
    "            Sub2=float(input(\"Subject2=\"))\n",
    "            Sub3=float(input(\"Subject3=\"))\n",
    "            Sub4=float(input(\"Subject4=\"))\n",
    "            Sub5=float(input(\"Subject5=\"))\n",
    "            Total=Sub1+Sub2+Sub3+Sub4+Sub5\n",
    "            print(\"Total :\",Total)\n",
    "            Percentage=Total/500.0*100\n",
    "            print(\"Percentage : \",Percentage)\n",
    "     "
   ]
  },
  {
   "cell_type": "code",
   "execution_count": 8,
   "id": "f19b6cd4-b879-4ad0-84d4-866adac44994",
   "metadata": {},
   "outputs": [
    {
     "name": "stdin",
     "output_type": "stream",
     "text": [
      "Subject1= 98\n",
      "Subject2= 97\n",
      "Subject3= 96\n",
      "Subject4= 85\n",
      "Subject5= 75\n"
     ]
    },
    {
     "name": "stdout",
     "output_type": "stream",
     "text": [
      "Total : 451.0\n",
      "Percentage :  90.2\n"
     ]
    }
   ],
   "source": [
    "Percentage.percentage()"
   ]
  },
  {
   "cell_type": "code",
   "execution_count": 9,
   "id": "25d1eeb3-e293-46d1-9306-2850f92fadac",
   "metadata": {},
   "outputs": [],
   "source": [
    "class Triangle():\n",
    "    def triangle():\n",
    "            height=int(input(\"Height:\"))\n",
    "            breadth=int(input(\"Breadth:\"))\n",
    "            print(\"Area formula:(Height*Breadth)/2\")\n",
    "            Area=(height*breadth)/2 \n",
    "            print(\"Area of a Triangle:\",Area)\n",
    "            height1=int(input(\"Height1:\"))\n",
    "            height2=int(input(\"Height2:\"))\n",
    "            breadth_1=int(input(\"Breadth:\"))\n",
    "            print(\"Perimeter formula:Height1+Height2+Breadth\")\n",
    "            Perimeter=height1+height2+breadth_1\n",
    "            print(\"Perimeter of a Triangle:\",Perimeter)\n",
    "\n",
    " "
   ]
  },
  {
   "cell_type": "code",
   "execution_count": 10,
   "id": "3c5652ba-7697-458d-8332-76be25e4ae1f",
   "metadata": {},
   "outputs": [
    {
     "name": "stdin",
     "output_type": "stream",
     "text": [
      "Height: 7\n",
      "Breadth: 5\n"
     ]
    },
    {
     "name": "stdout",
     "output_type": "stream",
     "text": [
      "Area formula:(Height*Breadth)/2\n",
      "Area of a Triangle: 17.5\n"
     ]
    },
    {
     "name": "stdin",
     "output_type": "stream",
     "text": [
      "Height1: 8\n",
      "Height2: 9\n",
      "Breadth: 5\n"
     ]
    },
    {
     "name": "stdout",
     "output_type": "stream",
     "text": [
      "Perimeter formula:Height1+Height2+Breadth\n",
      "Perimeter of a Triangle: 22\n"
     ]
    }
   ],
   "source": [
    "Triangle.triangle()"
   ]
  },
  {
   "cell_type": "code",
   "execution_count": null,
   "id": "7e27008d-932e-4a14-b05b-4d81f1641716",
   "metadata": {},
   "outputs": [],
   "source": []
  }
 ],
 "metadata": {
  "kernelspec": {
   "display_name": "Python 3 (ipykernel)",
   "language": "python",
   "name": "python3"
  },
  "language_info": {
   "codemirror_mode": {
    "name": "ipython",
    "version": 3
   },
   "file_extension": ".py",
   "mimetype": "text/x-python",
   "name": "python",
   "nbconvert_exporter": "python",
   "pygments_lexer": "ipython3",
   "version": "3.12.4"
  }
 },
 "nbformat": 4,
 "nbformat_minor": 5
}
