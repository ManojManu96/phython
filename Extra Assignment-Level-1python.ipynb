{
 "cells": [
  {
   "cell_type": "code",
   "execution_count": 1,
   "id": "749d3682-8ef9-43d2-8240-f445f8675a73",
   "metadata": {},
   "outputs": [
    {
     "name": "stdout",
     "output_type": "stream",
     "text": [
      "Hope AI\n"
     ]
    }
   ],
   "source": [
    "#1. Print statement\n",
    "print(\"Hope AI\")"
   ]
  },
  {
   "cell_type": "code",
   "execution_count": 3,
   "id": "30ea42cc-020f-4fdc-b029-afc9d4ed047f",
   "metadata": {},
   "outputs": [
    {
     "name": "stdin",
     "output_type": "stream",
     "text": [
      "Enter your name: Raj\n",
      "Enter your age: 15\n",
      "Enter your school name: Guru school\n",
      "Enter your degree B.E CSE\n"
     ]
    }
   ],
   "source": [
    "# 2.Buy input\n",
    "Name=input(\"Enter your name:\")\n",
    "Age=int(input(\"Enter your age:\"))\n",
    "School_Name=input(\"Enter your school name:\")\n",
    "Degree=input(\"Enter your degree\")\n",
    "        "
   ]
  },
  {
   "cell_type": "code",
   "execution_count": 1,
   "id": "f79c408a-841a-4f7d-a8a0-61a4d7bd5445",
   "metadata": {},
   "outputs": [
    {
     "name": "stdin",
     "output_type": "stream",
     "text": [
      "Enter your age: 15\n",
      "Enter your school name: Guru School\n",
      "Enter your degree B.E CSE\n"
     ]
    }
   ],
   "source": []
  },
  {
   "cell_type": "code",
   "execution_count": 13,
   "id": "4befb027-2cb6-43b9-9349-53b88347ba2f",
   "metadata": {},
   "outputs": [
    {
     "name": "stdout",
     "output_type": "stream",
     "text": [
      "Add = 77\n"
     ]
    }
   ],
   "source": [
    "# 3.Addition\n",
    "a=43\n",
    "b=34\n",
    "add=a+b\n",
    "print(\"Add =\",add)"
   ]
  },
  {
   "cell_type": "code",
   "execution_count": 15,
   "id": "a46ca2cc-9dc1-4691-bfd6-0696273a396d",
   "metadata": {},
   "outputs": [
    {
     "name": "stdout",
     "output_type": "stream",
     "text": [
      "Sub = 9\n"
     ]
    }
   ],
   "source": [
    "# 4.Subtraction\n",
    "a=43\n",
    "b=34\n",
    "sub=a-b\n",
    "print(\"Sub =\",sub)"
   ]
  },
  {
   "cell_type": "code",
   "execution_count": 19,
   "id": "4d7176c9-a536-43c6-bd8f-2d67c9e97ba8",
   "metadata": {},
   "outputs": [
    {
     "name": "stdout",
     "output_type": "stream",
     "text": [
      "Mul =  6111\n"
     ]
    }
   ],
   "source": [
    "# 5.Multiplication\n",
    "a=63\n",
    "b=97\n",
    "mul=a*b\n",
    "print(\"Mul = \",mul)"
   ]
  },
  {
   "cell_type": "code",
   "execution_count": 25,
   "id": "840ae075-37ed-4568-b561-8b4cd0e204a2",
   "metadata": {},
   "outputs": [
    {
     "name": "stdout",
     "output_type": "stream",
     "text": [
      "Float Div = 2.4516129032258065\n"
     ]
    }
   ],
   "source": [
    "# 6.Division\n",
    "a=76\n",
    "b=31\n",
    "div=a/b\n",
    "print(\"Float Div =\",div)"
   ]
  },
  {
   "cell_type": "code",
   "execution_count": 27,
   "id": "7ab6dd60-05c5-42a2-8b6a-1aadd59e5c9b",
   "metadata": {},
   "outputs": [
    {
     "name": "stdout",
     "output_type": "stream",
     "text": [
      "Floor Div = 2\n"
     ]
    }
   ],
   "source": [
    "# 7.Floor Division\n",
    "a=76\n",
    "b=31\n",
    "floorDiv=a//b\n",
    "print(\"Floor Div =\",floorDiv)"
   ]
  },
  {
   "cell_type": "code",
   "execution_count": 29,
   "id": "7ba54b82-88fc-46ae-a53a-ddab2a76cc7c",
   "metadata": {},
   "outputs": [
    {
     "name": "stdout",
     "output_type": "stream",
     "text": [
      "Modulo = 14\n"
     ]
    }
   ],
   "source": [
    "# 8.Modulo\n",
    "a=76\n",
    "b=31\n",
    "modulo=a%b\n",
    "print(\"Modulo =\",modulo)"
   ]
  },
  {
   "cell_type": "code",
   "execution_count": 33,
   "id": "dccbfe00-6e10-4af6-885e-027a3e4ee1e3",
   "metadata": {},
   "outputs": [
    {
     "name": "stdout",
     "output_type": "stream",
     "text": [
      "Power = 256\n"
     ]
    }
   ],
   "source": [
    "# 9.Power\n",
    "a=4\n",
    "b=4\n",
    "result=pow(a,b)\n",
    "print(\"Power =\",result)"
   ]
  },
  {
   "cell_type": "code",
   "execution_count": 1,
   "id": "1eceef74-a261-40b8-b57b-d1a1d74415fe",
   "metadata": {},
   "outputs": [
    {
     "name": "stdin",
     "output_type": "stream",
     "text": [
      "Enter the institute name : HOPE AI\n"
     ]
    }
   ],
   "source": [
    "# 10.Buy input\n",
    "Institute_Name=input(\"Enter the institute name :\")"
   ]
  },
  {
   "cell_type": "code",
   "execution_count": null,
   "id": "35e654a9-fda3-43e6-87c7-4a82638e0799",
   "metadata": {},
   "outputs": [],
   "source": []
  }
 ],
 "metadata": {
  "kernelspec": {
   "display_name": "Python 3 (ipykernel)",
   "language": "python",
   "name": "python3"
  },
  "language_info": {
   "codemirror_mode": {
    "name": "ipython",
    "version": 3
   },
   "file_extension": ".py",
   "mimetype": "text/x-python",
   "name": "python",
   "nbconvert_exporter": "python",
   "pygments_lexer": "ipython3",
   "version": "3.12.4"
  }
 },
 "nbformat": 4,
 "nbformat_minor": 5
}
