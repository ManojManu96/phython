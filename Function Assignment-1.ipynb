{
 "cells": [
  {
   "cell_type": "code",
   "execution_count": 1,
   "id": "0b563bf7-94fc-47d5-b30d-2fcb503b6721",
   "metadata": {},
   "outputs": [
    {
     "name": "stdout",
     "output_type": "stream",
     "text": [
      "Machine Learning\n"
     ]
    },
    {
     "data": {
      "text/plain": [
       "'Machine Learning'"
      ]
     },
     "execution_count": 1,
     "metadata": {},
     "output_type": "execute_result"
    }
   ],
   "source": [
    "# 1.Create function\n",
    "def Subfields():\n",
    "        \n",
    "    mylists=[\"Machine Learning\",\"Natural Networks\",\"Vision\",\"Robotics\",\"Speech Processing\",\"Natural Language Processing\"]\n",
    "    for temp in mylists:\n",
    "        # print(\"Sub-fields in AI are:\")\n",
    "        # break\n",
    "        print(temp)\n",
    "        return temp\n",
    "Subfields()\n",
    "    \n"
   ]
  },
  {
   "cell_type": "code",
   "execution_count": 2,
   "id": "54afab96-353c-4af3-b88e-e884eac296a5",
   "metadata": {},
   "outputs": [],
   "source": [
    "# Create function\n",
    "def OddEven():\n",
    "    num=int(input(\"Enter a number:\"))\n",
    "    if((num%2)==0):\n",
    "      print(\"is Even Number\")\n",
    "    else:\n",
    "        print(num,\"is Odd Number\")\n",
    "        return OddEven()"
   ]
  },
  {
   "cell_type": "code",
   "execution_count": null,
   "id": "2655bcb5-3860-4f38-846e-9d92a8b64721",
   "metadata": {},
   "outputs": [
    {
     "name": "stdin",
     "output_type": "stream",
     "text": [
      "Enter a number: 5\n"
     ]
    },
    {
     "name": "stdout",
     "output_type": "stream",
     "text": [
      "5 is Odd Number\n"
     ]
    }
   ],
   "source": [
    "oddEven=OddEven()"
   ]
  },
  {
   "cell_type": "code",
   "execution_count": null,
   "id": "e9803cd6-b59b-4bfb-b8ae-7f94ffa3c7f8",
   "metadata": {},
   "outputs": [],
   "source": [
    "# 3.Check eligiblity for Marriage both male and female\n",
    "def Eligible():\n",
    "    Gender=input(\"Your Gender:\")\n",
    "    Age=int(input(\"Your Age\"))\n",
    "    if(Age>=18 and Gender==\"Female\"):\n",
    "      print(\"Eligible\")\n",
    "    elif(Age>=21 and Gender==\"Male\"):\n",
    "        print(\"Eligible\")\n",
    "    else:\n",
    "         print(\"Not Eligible\")\n",
    "         return Eligible()\n",
    "         \n",
    "     "
   ]
  },
  {
   "cell_type": "code",
   "execution_count": null,
   "id": "bf61092f-188e-4d8e-b65a-4ee5bb8b6f18",
   "metadata": {},
   "outputs": [],
   "source": [
    "# 4.Calculate percentage of your 10th mark\n",
    "def percentage():\n",
    "    Sub1=float(input(\"Subject1=\"))\n",
    "    Sub2=float(input(\"Subject2=\"))\n",
    "    Sub3=float(input(\"Subject3=\"))\n",
    "    Sub4=float(input(\"Subject4=\"))\n",
    "    Sub5=float(input(\"Subject5=\"))\n",
    "    Total=Sub1+Sub2+Sub3+Sub4+Sub5\n",
    "    print(\"Total :\",Total)\n",
    "    Percentage=Total/500.0*100\n",
    "    print(\"Percentage : \",Percentage)\n",
    "    return percentage()"
   ]
  },
  {
   "cell_type": "code",
   "execution_count": null,
   "id": "dbbe30d8-b30e-4174-87e3-37a9fa7ecb46",
   "metadata": {},
   "outputs": [],
   "source": [
    "Percentage=percentage()"
   ]
  },
  {
   "cell_type": "code",
   "execution_count": null,
   "id": "510a138b-edc5-46c9-883c-26251c8b7375",
   "metadata": {},
   "outputs": [],
   "source": [
    "# 5.Print area and perimeter of a triangle by using class and function\n",
    "def triangle():\n",
    "    height=int(input(\"Height:\"))\n",
    "    breadth=int(input(\"Breadth:\"))\n",
    "    print(\"Area formula:(Height*Breadth)/2\")\n",
    "    Area=(height*breadth)/2 \n",
    "    print(\"Area of a Triangle:\",Area)\n",
    "    height1=int(input(\"Height1:\"))\n",
    "    height2=int(input(\"Height2:\"))\n",
    "    breadth_1=int(input(\"Breadth:\"))\n",
    "    print(\"Perimeter formula:Height1+Height2+Breadth\")\n",
    "    Perimeter=height1+height2+breadth_1\n",
    "    print(\"Perimeter of a Triangle:\",Perimeter)\n",
    "    return triangle()\n"
   ]
  },
  {
   "cell_type": "code",
   "execution_count": null,
   "id": "7af68d0b-286f-4eab-ad5d-69408699d9cb",
   "metadata": {},
   "outputs": [],
   "source": [
    "Triangle=triangle()"
   ]
  },
  {
   "cell_type": "code",
   "execution_count": null,
   "id": "681fb319-f908-4cd3-8889-5264b0a69245",
   "metadata": {},
   "outputs": [],
   "source": []
  }
 ],
 "metadata": {
  "kernelspec": {
   "display_name": "Python 3 (ipykernel)",
   "language": "python",
   "name": "python3"
  },
  "language_info": {
   "codemirror_mode": {
    "name": "ipython",
    "version": 3
   },
   "file_extension": ".py",
   "mimetype": "text/x-python",
   "name": "python",
   "nbconvert_exporter": "python",
   "pygments_lexer": "ipython3",
   "version": "3.12.4"
  }
 },
 "nbformat": 4,
 "nbformat_minor": 5
}
