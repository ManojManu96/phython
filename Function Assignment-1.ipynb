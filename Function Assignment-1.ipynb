{
 "cells": [
  {
   "cell_type": "code",
   "execution_count": 1,
   "id": "0b563bf7-94fc-47d5-b30d-2fcb503b6721",
   "metadata": {},
   "outputs": [],
   "source": [
    "# 1.Create function\n",
    "def Subfields():\n",
    "    mylists=[\"Machine Learning\",\"Natural Networks\",\"Vision\",\"Robotics\",\"Speech Processing\",\"Natural Language Processing\"]\n",
    "    for temp in mylists:\n",
    "        print(temp)\n",
    "        \n",
    "            \n",
    "    \n"
   ]
  },
  {
   "cell_type": "code",
   "execution_count": 2,
   "id": "29f19bd1-a899-404c-89a2-c00d56a5912a",
   "metadata": {},
   "outputs": [
    {
     "name": "stdout",
     "output_type": "stream",
     "text": [
      "Machine Learning\n",
      "Natural Networks\n",
      "Vision\n",
      "Robotics\n",
      "Speech Processing\n",
      "Natural Language Processing\n"
     ]
    }
   ],
   "source": [
    "Subfields()"
   ]
  },
  {
   "cell_type": "code",
   "execution_count": 3,
   "id": "54afab96-353c-4af3-b88e-e884eac296a5",
   "metadata": {},
   "outputs": [],
   "source": [
    "#2.Create function\n",
    "def OddEven():\n",
    "    num=int(input(\"Enter a number:\"))\n",
    "    if((num%2)==0):\n",
    "        print(\"is Even Number\")\n",
    "        GivenNum=\"Even Number\"\n",
    "    else:\n",
    "        print(num,\"is Odd Number\")\n",
    "        GivenNum=\"Odd Number\"\n",
    "       "
   ]
  },
  {
   "cell_type": "code",
   "execution_count": 4,
   "id": "d7429178-74a9-4fbb-b939-c70b49e12621",
   "metadata": {},
   "outputs": [
    {
     "name": "stdin",
     "output_type": "stream",
     "text": [
      "Enter a number: 7\n"
     ]
    },
    {
     "name": "stdout",
     "output_type": "stream",
     "text": [
      "7 is Odd Number\n"
     ]
    }
   ],
   "source": [
    "OddEven()"
   ]
  },
  {
   "cell_type": "code",
   "execution_count": 5,
   "id": "e9803cd6-b59b-4bfb-b8ae-7f94ffa3c7f8",
   "metadata": {},
   "outputs": [],
   "source": [
    "# 3.Check eligiblity for Marriage both male and female\n",
    "def Eligible():\n",
    "    Gender=input(\"Your Gender:\")\n",
    "    Age=int(input(\"Your Age\"))\n",
    "    if(Age>=18 and Gender==\"Female\"):\n",
    "        print(\"Eligible\")\n",
    "    elif(Age>=21 and Gender==\"Male\"):\n",
    "        print(\"Eligible\")\n",
    "        stage=\"Eligible\"\n",
    "    else:\n",
    "        print(\"Not Eligible\")\n",
    "        stage=\"Not Eligible\"\n",
    "          \n",
    "     "
   ]
  },
  {
   "cell_type": "code",
   "execution_count": 6,
   "id": "e6a4d13e-cec3-4163-8845-1cbe0451b834",
   "metadata": {},
   "outputs": [
    {
     "name": "stdin",
     "output_type": "stream",
     "text": [
      "Your Gender: Male\n",
      "Your Age 29\n"
     ]
    },
    {
     "name": "stdout",
     "output_type": "stream",
     "text": [
      "Eligible\n"
     ]
    }
   ],
   "source": [
    "Eligible()"
   ]
  },
  {
   "cell_type": "code",
   "execution_count": 7,
   "id": "bf61092f-188e-4d8e-b65a-4ee5bb8b6f18",
   "metadata": {},
   "outputs": [],
   "source": [
    "# 4.Calculate percentage of your 10th mark\n",
    "def percentage():\n",
    "        Sub1=float(input(\"Subject1=\"))\n",
    "        Sub2=float(input(\"Subject2=\"))\n",
    "        Sub3=float(input(\"Subject3=\"))\n",
    "        Sub4=float(input(\"Subject4=\"))\n",
    "        Sub5=float(input(\"Subject5=\"))\n",
    "        Total=Sub1+Sub2+Sub3+Sub4+Sub5\n",
    "        print(\"Total :\",Total)\n",
    "        Percentage=Total/500.0*100\n",
    "        print(\"Percentage : \",Percentage)\n",
    " "
   ]
  },
  {
   "cell_type": "code",
   "execution_count": 8,
   "id": "dbbe30d8-b30e-4174-87e3-37a9fa7ecb46",
   "metadata": {},
   "outputs": [
    {
     "name": "stdin",
     "output_type": "stream",
     "text": [
      "Subject1= 89\n",
      "Subject2= 98\n",
      "Subject3= 89\n",
      "Subject4= 75\n",
      "Subject5= 92\n"
     ]
    },
    {
     "name": "stdout",
     "output_type": "stream",
     "text": [
      "Total : 443.0\n",
      "Percentage :  88.6\n"
     ]
    }
   ],
   "source": [
    "percentage()\n"
   ]
  },
  {
   "cell_type": "code",
   "execution_count": 9,
   "id": "510a138b-edc5-46c9-883c-26251c8b7375",
   "metadata": {},
   "outputs": [],
   "source": [
    "# 5.Print area and perimeter of a triangle by using class and function\n",
    "def triangle():\n",
    "        height=int(input(\"Height:\"))\n",
    "        breadth=int(input(\"Breadth:\"))\n",
    "        print(\"Area formula:(Height*Breadth)/2\")\n",
    "        Area=(height*breadth)/2 \n",
    "        print(\"Area of a Triangle:\",Area)\n",
    "        height1=int(input(\"Height1:\"))\n",
    "        height2=int(input(\"Height2:\"))\n",
    "        breadth_1=int(input(\"Breadth:\"))\n",
    "        print(\"Perimeter formula:Height1+Height2+Breadth\")\n",
    "        Perimeter=height1+height2+breadth_1\n",
    "        print(\"Perimeter of a Triangle:\",Perimeter)\n",
    " "
   ]
  },
  {
   "cell_type": "code",
   "execution_count": 10,
   "id": "7af68d0b-286f-4eab-ad5d-69408699d9cb",
   "metadata": {},
   "outputs": [
    {
     "name": "stdin",
     "output_type": "stream",
     "text": [
      "Height: 7\n",
      "Breadth: 8\n"
     ]
    },
    {
     "name": "stdout",
     "output_type": "stream",
     "text": [
      "Area formula:(Height*Breadth)/2\n",
      "Area of a Triangle: 28.0\n"
     ]
    },
    {
     "name": "stdin",
     "output_type": "stream",
     "text": [
      "Height1: 9\n",
      "Height2: 8\n",
      "Breadth: 5\n"
     ]
    },
    {
     "name": "stdout",
     "output_type": "stream",
     "text": [
      "Perimeter formula:Height1+Height2+Breadth\n",
      "Perimeter of a Triangle: 22\n"
     ]
    }
   ],
   "source": [
    "triangle()"
   ]
  },
  {
   "cell_type": "code",
   "execution_count": null,
   "id": "681fb319-f908-4cd3-8889-5264b0a69245",
   "metadata": {},
   "outputs": [],
   "source": []
  }
 ],
 "metadata": {
  "kernelspec": {
   "display_name": "Python 3 (ipykernel)",
   "language": "python",
   "name": "python3"
  },
  "language_info": {
   "codemirror_mode": {
    "name": "ipython",
    "version": 3
   },
   "file_extension": ".py",
   "mimetype": "text/x-python",
   "name": "python",
   "nbconvert_exporter": "python",
   "pygments_lexer": "ipython3",
   "version": "3.12.4"
  }
 },
 "nbformat": 4,
 "nbformat_minor": 5
}
